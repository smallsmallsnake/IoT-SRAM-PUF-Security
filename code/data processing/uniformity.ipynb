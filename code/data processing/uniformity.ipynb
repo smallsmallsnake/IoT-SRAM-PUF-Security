{
 "cells": [
  {
   "cell_type": "code",
   "execution_count": null,
   "id": "59a57f5a",
   "metadata": {},
   "outputs": [],
   "source": [
    "def hex_to_binary(hex_data):\n",
    "    return bin(int(hex_data, 16))[2:].zfill(8)"
   ]
  },
  {
   "cell_type": "code",
   "execution_count": null,
   "id": "90e0b16a",
   "metadata": {},
   "outputs": [],
   "source": [
    "def calculate_zero_proportion(binary_data):\n",
    "    total_bits = len(binary_data)\n",
    "    zero_count = binary_data.count('0')\n",
    "    return zero_count / total_bits"
   ]
  },
  {
   "cell_type": "code",
   "execution_count": null,
   "id": "bda6e67d",
   "metadata": {},
   "outputs": [],
   "source": [
    "with open(\"biaozhun.txt\", 'r') as f1:\n",
    "    hex_data1 = f1.read().strip().split()"
   ]
  },
  {
   "cell_type": "code",
   "execution_count": null,
   "id": "296c9366",
   "metadata": {},
   "outputs": [],
   "source": [
    "# 将16进制数据转换为二进制\n",
    "binary_data1 = ''.join([hex_to_binary(hex_num) for hex_num in hex_data1])"
   ]
  },
  {
   "cell_type": "code",
   "execution_count": null,
   "id": "4b7183df",
   "metadata": {},
   "outputs": [],
   "source": [
    "zero_proportion = calculate_zero_proportion(binary_data1)\n",
    "print(f'Proportion of 0s: {zero_proportion:.2%}')"
   ]
  }
 ],
 "metadata": {
  "kernelspec": {
   "display_name": "Python 3 (ipykernel)",
   "language": "python",
   "name": "python3"
  },
  "language_info": {
   "codemirror_mode": {
    "name": "ipython",
    "version": 3
   },
   "file_extension": ".py",
   "mimetype": "text/x-python",
   "name": "python",
   "nbconvert_exporter": "python",
   "pygments_lexer": "ipython3",
   "version": "3.11.5"
  }
 },
 "nbformat": 4,
 "nbformat_minor": 5
}
