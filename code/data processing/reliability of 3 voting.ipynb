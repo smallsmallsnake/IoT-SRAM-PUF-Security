{
 "cells": [
  {
   "cell_type": "code",
   "execution_count": null,
   "id": "19b2165d",
   "metadata": {},
   "outputs": [],
   "source": [
    "def hex_to_binary(hex_data):\n",
    "    # 将16进制转换为8位的2进制\n",
    "    return bin(int(hex_data, 16))[2:].zfill(8)\n",
    "def binary_to_hex(binary_data):\n",
    "    # 将2进制转换回16进制\n",
    "    return hex(int(binary_data, 2))[2:].upper().zfill(2)\n",
    "\n",
    "def calculate_reliability(standard_binary, comparison_binary):\n",
    "    # 计算可靠性\n",
    "    total_bits = len(standard_binary)\n",
    "    same_bits = sum(s == c for s, c in zip(standard_binary, comparison_binary))\n",
    "    return same_bits/total_bits\n",
    "# 读取标准文档和要比较的文档\n",
    "with open(\"biaozhun.txt\", 'r') as f_standard, open(\"25.txt\", 'r') as f_comparison:\n",
    "    standard_hex3 = f_standard.read().strip().split()\n",
    "    comparison_hex3 = f_comparison.read().strip().split()\n",
    "# 读取标准文档和要比较的文档\n",
    "with open(\"biaozhun.txt\", 'r') as f_standard, open(\"26.txt\", 'r') as f_comparison:\n",
    "    standard_hex2 = f_standard.read().strip().split()\n",
    "    comparison_hex2 = f_comparison.read().strip().split()\n",
    "# 读取标准文档和要比较的文档\n",
    "with open(\"biaozhun.txt\", 'r') as f_standard, open(\"27.txt\", 'r') as f_comparison:\n",
    "    standard_hex1 = f_standard.read().strip().split()\n",
    "    comparison_hex1 = f_comparison.read().strip().split()\n",
    "# 将16进制转换为二进制\n",
    "standard_binary1 = ''.join([hex_to_binary(hex_num) for hex_num in standard_hex1])\n",
    "comparison_binary1 = ''.join([hex_to_binary(hex_num) for hex_num in comparison_hex1])\n",
    "# 将16进制转换为二进制\n",
    "standard_binary2 = ''.join([hex_to_binary(hex_num) for hex_num in standard_hex2])\n",
    "comparison_binary2 = ''.join([hex_to_binary(hex_num) for hex_num in comparison_hex2])\n",
    "# 将16进制转换为二进制\n",
    "standard_binary3 = ''.join([hex_to_binary(hex_num) for hex_num in standard_hex3])\n",
    "comparison_binary3 = ''.join([hex_to_binary(hex_num) for hex_num in comparison_hex3])\n",
    "# 计算可靠性\n",
    "reliability1 = calculate_reliability(standard_binary1, comparison_binary1)\n",
    "# 计算可靠性\n",
    "reliability2 = calculate_reliability(standard_binary2, comparison_binary2)\n",
    "# 计算可靠性\n",
    "reliability3 = calculate_reliability(standard_binary3, comparison_binary3)\n",
    "#\n",
    "reliability=(reliability1+reliability2+reliability3)/3\n",
    "print(f'3.txt Reliability final: {reliability:.2%}')"
   ]
  }
 ],
 "metadata": {
  "kernelspec": {
   "display_name": "Python 3 (ipykernel)",
   "language": "python",
   "name": "python3"
  },
  "language_info": {
   "codemirror_mode": {
    "name": "ipython",
    "version": 3
   },
   "file_extension": ".py",
   "mimetype": "text/x-python",
   "name": "python",
   "nbconvert_exporter": "python",
   "pygments_lexer": "ipython3",
   "version": "3.11.5"
  }
 },
 "nbformat": 4,
 "nbformat_minor": 5
}
