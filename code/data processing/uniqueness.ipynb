{
 "cells": [
  {
   "cell_type": "code",
   "execution_count": null,
   "id": "607e6150",
   "metadata": {},
   "outputs": [],
   "source": [
    "def hex_to_binary(hex_data):\n",
    "    # Convert hex to 8-bit binary\n",
    "    return bin(int(hex_data, 16))[2:].zfill(8)\n",
    "\n",
    "# Read the standard document and convert to binary\n",
    "with open(\"biaozhun.txt\", 'r') as file:\n",
    "    hex_data = file.read().strip().split()\n",
    "\n",
    "# Ensure the data length is 64K\n",
    "if len(hex_data) != 64 * 1024:\n",
    "    raise ValueError(\"Data length is not 64K.\")\n",
    "\n",
    "# Convert data to binary and merge into one long string\n",
    "binary_data = ''.join(hex_to_binary(hex_num) for hex_num in hex_data)\n",
    "half_length = len(binary_data) // 2\n",
    "part1 = binary_data[:half_length]\n",
    "part2 = binary_data[half_length:]\n",
    "difference_count = sum(bit1 != bit2 for bit1, bit2 in zip(part1, part2))\n",
    "difference_percentage = (difference_count / (32 * 1024 * 8))\n",
    "print(f'Uniqueness: {difference_percentage:.2%}')\n"
   ]
  }
 ],
 "metadata": {
  "kernelspec": {
   "display_name": "Python 3 (ipykernel)",
   "language": "python",
   "name": "python3"
  },
  "language_info": {
   "codemirror_mode": {
    "name": "ipython",
    "version": 3
   },
   "file_extension": ".py",
   "mimetype": "text/x-python",
   "name": "python",
   "nbconvert_exporter": "python",
   "pygments_lexer": "ipython3",
   "version": "3.11.5"
  }
 },
 "nbformat": 4,
 "nbformat_minor": 5
}
