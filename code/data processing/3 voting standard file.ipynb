{
 "cells": [
  {
   "cell_type": "code",
   "execution_count": null,
   "id": "d5c3b7d7",
   "metadata": {},
   "outputs": [],
   "source": [
    "def hex_to_binary(hex_data):\n",
    "    return bin(int(hex_data, 16))[2:].zfill(8)\n",
    "def binary_to_hex(binary_data):\n",
    "    return hex(int(binary_data, 2))[2:].upper().zfill(2)\n",
    "def vote_on_bits(*binary_data):\n",
    "\n",
    "    length = len(binary_data[0])\n",
    "    voted_result = ''\n",
    "\n",
    "    for i in range(length):\n",
    "    \n",
    "        ones_count = sum(b[i] == '1' for b in binary_data)\n",
    "\n",
    "        voted_result += '1' if ones_count >= 2 else '0'\n",
    "\n",
    "    return voted_result"
   ]
  },
  {
   "cell_type": "code",
   "execution_count": null,
   "id": "bf2672c0",
   "metadata": {},
   "outputs": [],
   "source": [
    "\n",
    "with open(\"1.txt\", 'r') as f1, open(\"2.txt\", 'r') as f2, open(\"3.txt\", 'r') as f3:\n",
    "    hex_data1 = f1.read().strip().split()\n",
    "    hex_data2 = f2.read().strip().split()\n",
    "    hex_data3 = f3.read().strip().split()"
   ]
  },
  {
   "cell_type": "code",
   "execution_count": null,
   "id": "43266fad",
   "metadata": {},
   "outputs": [],
   "source": [
    "binary_data1 = [hex_to_binary(hex_num) for hex_num in hex_data1]\n",
    "binary_data2 = [hex_to_binary(hex_num) for hex_num in hex_data2]\n",
    "binary_data3 = [hex_to_binary(hex_num) for hex_num in hex_data3]"
   ]
  },
  {
   "cell_type": "code",
   "execution_count": null,
   "id": "bacfd32e",
   "metadata": {},
   "outputs": [],
   "source": [
    "voted_results = []\n",
    "for i in range(len(binary_data1)):\n",
    "    voted_result = vote_on_bits(binary_data1[i], binary_data2[i], binary_data3[i])\n",
    "    voted_results.append(binary_to_hex(voted_result))"
   ]
  },
  {
   "cell_type": "code",
   "execution_count": null,
   "id": "2893f3c8",
   "metadata": {},
   "outputs": [],
   "source": [
    "with open(\"biaozhun.txt\", 'w') as f:\n",
    "    f.write(' '.join(voted_results))"
   ]
  },
  {
   "cell_type": "code",
   "execution_count": null,
   "id": "299ff147",
   "metadata": {},
   "outputs": [],
   "source": [
    "import time\n",
    "import tracemalloc\n",
    "\n",
    "def hex_to_binary(hex_data):\n",
    "    return bin(int(hex_data, 16))[2:].zfill(8)\n",
    "\n",
    "def binary_to_hex(binary_data):\n",
    "    return hex(int(binary_data, 2))[2:].upper().zfill(2)\n",
    "\n",
    "def vote_on_bits(*binary_data):\n",
    "    length = len(binary_data[0])\n",
    "    voted_result = ''\n",
    "\n",
    "    for i in range(length):\n",
    "        ones_count = sum(b[i] == '1' for b in binary_data)\n",
    "        voted_result += '1' if ones_count >= 2 else '0'\n",
    "\n",
    "    return voted_result\n",
    "\n",
    "# Start tracking memory\n",
    "tracemalloc.start()\n",
    "\n",
    "# Record start time\n",
    "start_time = time.time()\n",
    "\n",
    "# Note: You need to modify the file paths according to your file locations\n",
    "file_paths = [\n",
    "    \"1.txt\",\n",
    "    \"2.txt\",\n",
    "    \"3.txt\"\n",
    "]\n",
    "\n",
    "binary_data = []\n",
    "for path in file_paths:\n",
    "    with open(path, 'r') as f:\n",
    "        hex_data = f.read().strip().split()\n",
    "        binary_data.append([hex_to_binary(hex_num) for hex_num in hex_data])\n",
    "\n",
    "# Voting result in hexadecimal\n",
    "voted_results = []\n",
    "for i in range(len(binary_data[0])):\n",
    "    voted_result = vote_on_bits(*(data[i] for data in binary_data))\n",
    "    voted_results.append(binary_to_hex(voted_result))\n",
    "\n",
    "# Save the voted hexadecimal numbers to a file\n",
    "with open(\"biaozhuntest.txt\", 'w') as f:\n",
    "    f.write(' '.join(voted_results))\n",
    "\n",
    "# Record end time\n",
    "end_time = time.time()\n",
    "\n",
    "# Stop memory tracking\n",
    "current, peak = tracemalloc.get_traced_memory()\n",
    "tracemalloc.stop()\n",
    "\n",
    "print(f\"time: {end_time - start_time} seconds\")\n",
    "print(f\"peak memory usage: {peak / 1024**2:.2f} MB\")\n"
   ]
  }
 ],
 "metadata": {
  "kernelspec": {
   "display_name": "Python 3 (ipykernel)",
   "language": "python",
   "name": "python3"
  },
  "language_info": {
   "codemirror_mode": {
    "name": "ipython",
    "version": 3
   },
   "file_extension": ".py",
   "mimetype": "text/x-python",
   "name": "python",
   "nbconvert_exporter": "python",
   "pygments_lexer": "ipython3",
   "version": "3.11.5"
  }
 },
 "nbformat": 4,
 "nbformat_minor": 5
}
